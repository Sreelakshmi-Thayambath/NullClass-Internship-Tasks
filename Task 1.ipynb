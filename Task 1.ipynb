{
 "cells": [
  {
   "cell_type": "markdown",
   "id": "1c30e3cc",
   "metadata": {},
   "source": [
    "## Task- 1:Fine-Tune a Model: Description: Fine-tune a pre-trained CNN model (e.g., DeepFace or any of your choice) for age detection on the UTK dataset. Description: GUI is not necessary. It will be evaluated on the basis of accuracy score."
   ]
  },
  {
   "cell_type": "code",
   "execution_count": 1,
   "id": "805c4955",
   "metadata": {},
   "outputs": [],
   "source": [
    "import os\n",
    "import numpy as np\n",
    "import tensorflow as tf\n",
    "from tensorflow.keras.models import Model\n",
    "from tensorflow.keras.layers import Dense, GlobalAveragePooling2D\n",
    "from tensorflow.keras.applications import MobileNetV2\n",
    "from tensorflow.keras.preprocessing.image import ImageDataGenerator\n",
    "from sklearn.model_selection import train_test_split\n",
    "from sklearn.metrics import mean_absolute_error\n",
    "import cv2"
   ]
  },
  {
   "cell_type": "code",
   "execution_count": 2,
   "id": "f0af78b8",
   "metadata": {},
   "outputs": [],
   "source": [
    "# Load UTK Dataset\n",
    "def load_utk_data(dataset_path, img_size=(128, 128)):\n",
    "    images, ages = [], []\n",
    "    for file_name in os.listdir(dataset_path):\n",
    "        if not file_name.endswith(\".jpg\"):\n",
    "            continue\n",
    "        try:\n",
    "            age = int(file_name.split('_')[0])  # Extract age from file name\n",
    "            img = cv2.imread(os.path.join(dataset_path, file_name))\n",
    "            img = cv2.resize(img, img_size)\n",
    "            images.append(img)\n",
    "            ages.append(age)\n",
    "        except Exception as e:\n",
    "            print(f\"Error processing {file_name}: {e}\")\n",
    "    return np.array(images), np.array(ages)\n",
    "\n",
    "# Load data\n",
    "dataset_path = r\"C:\\Users\\sreel\\OneDrive\\Desktop\\Null Class\\Dataset\\UTKFace\"\n",
    "img_size = (128, 128)\n",
    "images, ages = load_utk_data(dataset_path, img_size)\n",
    "images = images / 255.0  # Normalize pixel values"
   ]
  },
  {
   "cell_type": "code",
   "execution_count": 3,
   "id": "0887c4c0",
   "metadata": {},
   "outputs": [],
   "source": [
    "# Split data\n",
    "X_train, X_test, y_train, y_test = train_test_split(images, ages, test_size=0.2, random_state=42)\n",
    "X_train, X_val, y_train, y_val = train_test_split(X_train, y_train, test_size=0.1, random_state=42)"
   ]
  },
  {
   "cell_type": "code",
   "execution_count": 4,
   "id": "30581391",
   "metadata": {},
   "outputs": [],
   "source": [
    "# Model definition\n",
    "base_model = MobileNetV2(weights=\"imagenet\", include_top=False, input_shape=img_size + (3,))\n",
    "x = base_model.output\n",
    "x = GlobalAveragePooling2D()(x)\n",
    "x = Dense(128, activation=\"relu\")(x)\n",
    "predictions = Dense(1, activation=\"linear\")(x)\n",
    "\n",
    "model = Model(inputs=base_model.input, outputs=predictions)"
   ]
  },
  {
   "cell_type": "code",
   "execution_count": 5,
   "id": "a5dce082",
   "metadata": {},
   "outputs": [
    {
     "name": "stdout",
     "output_type": "stream",
     "text": [
      "Epoch 1/10\n",
      "\u001b[1m534/534\u001b[0m \u001b[32m━━━━━━━━━━━━━━━━━━━━\u001b[0m\u001b[37m\u001b[0m \u001b[1m255s\u001b[0m 456ms/step - loss: 296.2116 - mae: 12.7785 - val_loss: 159.8317 - val_mae: 9.6820\n",
      "Epoch 2/10\n",
      "\u001b[1m534/534\u001b[0m \u001b[32m━━━━━━━━━━━━━━━━━━━━\u001b[0m\u001b[37m\u001b[0m \u001b[1m5138s\u001b[0m 10s/step - loss: 154.2934 - mae: 9.3930 - val_loss: 149.3391 - val_mae: 9.1774\n",
      "Epoch 3/10\n",
      "\u001b[1m534/534\u001b[0m \u001b[32m━━━━━━━━━━━━━━━━━━━━\u001b[0m\u001b[37m\u001b[0m \u001b[1m263s\u001b[0m 426ms/step - loss: 138.7029 - mae: 8.8295 - val_loss: 143.9261 - val_mae: 9.1315\n",
      "Epoch 4/10\n",
      "\u001b[1m534/534\u001b[0m \u001b[32m━━━━━━━━━━━━━━━━━━━━\u001b[0m\u001b[37m\u001b[0m \u001b[1m281s\u001b[0m 461ms/step - loss: 129.1865 - mae: 8.5132 - val_loss: 142.6745 - val_mae: 9.0162\n",
      "Epoch 5/10\n",
      "\u001b[1m534/534\u001b[0m \u001b[32m━━━━━━━━━━━━━━━━━━━━\u001b[0m\u001b[37m\u001b[0m \u001b[1m218s\u001b[0m 409ms/step - loss: 125.3267 - mae: 8.3231 - val_loss: 141.7583 - val_mae: 8.9159\n",
      "Epoch 6/10\n",
      "\u001b[1m534/534\u001b[0m \u001b[32m━━━━━━━━━━━━━━━━━━━━\u001b[0m\u001b[37m\u001b[0m \u001b[1m206s\u001b[0m 386ms/step - loss: 120.6480 - mae: 8.1204 - val_loss: 135.0704 - val_mae: 8.6860\n",
      "Epoch 7/10\n",
      "\u001b[1m534/534\u001b[0m \u001b[32m━━━━━━━━━━━━━━━━━━━━\u001b[0m\u001b[37m\u001b[0m \u001b[1m206s\u001b[0m 386ms/step - loss: 118.4737 - mae: 8.0643 - val_loss: 138.5122 - val_mae: 8.9493\n",
      "Epoch 8/10\n",
      "\u001b[1m534/534\u001b[0m \u001b[32m━━━━━━━━━━━━━━━━━━━━\u001b[0m\u001b[37m\u001b[0m \u001b[1m203s\u001b[0m 380ms/step - loss: 112.5820 - mae: 7.8953 - val_loss: 139.8465 - val_mae: 9.1258\n",
      "Epoch 9/10\n",
      "\u001b[1m534/534\u001b[0m \u001b[32m━━━━━━━━━━━━━━━━━━━━\u001b[0m\u001b[37m\u001b[0m \u001b[1m205s\u001b[0m 383ms/step - loss: 111.4249 - mae: 7.8401 - val_loss: 134.1664 - val_mae: 8.5010\n",
      "Epoch 10/10\n",
      "\u001b[1m534/534\u001b[0m \u001b[32m━━━━━━━━━━━━━━━━━━━━\u001b[0m\u001b[37m\u001b[0m \u001b[1m204s\u001b[0m 382ms/step - loss: 105.2632 - mae: 7.6373 - val_loss: 130.9266 - val_mae: 8.4824\n"
     ]
    }
   ],
   "source": [
    "# Freeze base model layers\n",
    "for layer in base_model.layers:\n",
    "    layer.trainable = False\n",
    "\n",
    "# Compile model\n",
    "model.compile(optimizer=tf.keras.optimizers.Adam(learning_rate=0.001),\n",
    "              loss=\"mean_squared_error\",\n",
    "              metrics=[\"mae\"])\n",
    "\n",
    "# Train model\n",
    "history = model.fit(X_train, y_train, \n",
    "                    validation_data=(X_val, y_val),\n",
    "                    epochs=10, batch_size=32)"
   ]
  },
  {
   "cell_type": "code",
   "execution_count": 6,
   "id": "acce2a43",
   "metadata": {},
   "outputs": [
    {
     "name": "stdout",
     "output_type": "stream",
     "text": [
      "Epoch 1/10\n",
      "\u001b[1m534/534\u001b[0m \u001b[32m━━━━━━━━━━━━━━━━━━━━\u001b[0m\u001b[37m\u001b[0m \u001b[1m1048s\u001b[0m 2s/step - loss: 269.6165 - mae: 12.1158 - val_loss: 723.9613 - val_mae: 23.1711\n",
      "Epoch 2/10\n",
      "\u001b[1m534/534\u001b[0m \u001b[32m━━━━━━━━━━━━━━━━━━━━\u001b[0m\u001b[37m\u001b[0m \u001b[1m953s\u001b[0m 2s/step - loss: 83.2214 - mae: 6.8379 - val_loss: 297.4552 - val_mae: 13.6790\n",
      "Epoch 3/10\n",
      "\u001b[1m534/534\u001b[0m \u001b[32m━━━━━━━━━━━━━━━━━━━━\u001b[0m\u001b[37m\u001b[0m \u001b[1m916s\u001b[0m 2s/step - loss: 57.6287 - mae: 5.7575 - val_loss: 313.9691 - val_mae: 13.9834\n",
      "Epoch 4/10\n",
      "\u001b[1m534/534\u001b[0m \u001b[32m━━━━━━━━━━━━━━━━━━━━\u001b[0m\u001b[37m\u001b[0m \u001b[1m922s\u001b[0m 2s/step - loss: 43.0715 - mae: 4.9893 - val_loss: 205.1143 - val_mae: 11.2740\n",
      "Epoch 5/10\n",
      "\u001b[1m534/534\u001b[0m \u001b[32m━━━━━━━━━━━━━━━━━━━━\u001b[0m\u001b[37m\u001b[0m \u001b[1m920s\u001b[0m 2s/step - loss: 37.2283 - mae: 4.5972 - val_loss: 219.7259 - val_mae: 11.8068\n",
      "Epoch 6/10\n",
      "\u001b[1m534/534\u001b[0m \u001b[32m━━━━━━━━━━━━━━━━━━━━\u001b[0m\u001b[37m\u001b[0m \u001b[1m455s\u001b[0m 851ms/step - loss: 32.4699 - mae: 4.2732 - val_loss: 102.8921 - val_mae: 7.4225\n",
      "Epoch 7/10\n",
      "\u001b[1m534/534\u001b[0m \u001b[32m━━━━━━━━━━━━━━━━━━━━\u001b[0m\u001b[37m\u001b[0m \u001b[1m384s\u001b[0m 719ms/step - loss: 28.6785 - mae: 4.0295 - val_loss: 102.1994 - val_mae: 7.5328\n",
      "Epoch 8/10\n",
      "\u001b[1m534/534\u001b[0m \u001b[32m━━━━━━━━━━━━━━━━━━━━\u001b[0m\u001b[37m\u001b[0m \u001b[1m381s\u001b[0m 713ms/step - loss: 25.7308 - mae: 3.8147 - val_loss: 84.6179 - val_mae: 6.6034\n",
      "Epoch 9/10\n",
      "\u001b[1m534/534\u001b[0m \u001b[32m━━━━━━━━━━━━━━━━━━━━\u001b[0m\u001b[37m\u001b[0m \u001b[1m379s\u001b[0m 709ms/step - loss: 23.4012 - mae: 3.6380 - val_loss: 95.6855 - val_mae: 7.2655\n",
      "Epoch 10/10\n",
      "\u001b[1m534/534\u001b[0m \u001b[32m━━━━━━━━━━━━━━━━━━━━\u001b[0m\u001b[37m\u001b[0m \u001b[1m383s\u001b[0m 717ms/step - loss: 22.8834 - mae: 3.5904 - val_loss: 77.9754 - val_mae: 6.4233\n"
     ]
    }
   ],
   "source": [
    "# Unfreeze base model and fine-tune\n",
    "for layer in base_model.layers:\n",
    "    layer.trainable = True\n",
    "\n",
    "model.compile(optimizer=tf.keras.optimizers.Adam(learning_rate=0.0001),\n",
    "              loss=\"mean_squared_error\",\n",
    "              metrics=[\"mae\"])\n",
    "\n",
    "history_finetune = model.fit(X_train, y_train, \n",
    "                             validation_data=(X_val, y_val),\n",
    "                             epochs=10 , batch_size=32)"
   ]
  },
  {
   "cell_type": "code",
   "execution_count": 7,
   "id": "4b7d3e9d",
   "metadata": {},
   "outputs": [
    {
     "name": "stdout",
     "output_type": "stream",
     "text": [
      "\u001b[1m149/149\u001b[0m \u001b[32m━━━━━━━━━━━━━━━━━━━━\u001b[0m\u001b[37m\u001b[0m \u001b[1m27s\u001b[0m 166ms/step\n"
     ]
    },
    {
     "name": "stderr",
     "output_type": "stream",
     "text": [
      "WARNING:absl:You are saving your model as an HDF5 file via `model.save()` or `keras.saving.save_model(model)`. This file format is considered legacy. We recommend using instead the native Keras format, e.g. `model.save('my_model.keras')` or `keras.saving.save_model(model, 'my_model.keras')`. \n"
     ]
    },
    {
     "name": "stdout",
     "output_type": "stream",
     "text": [
      "Mean Absolute Error on Test Set: 6.52\n"
     ]
    }
   ],
   "source": [
    "# Evaluate model\n",
    "y_pred = model.predict(X_test)\n",
    "mae = mean_absolute_error(y_test, y_pred)\n",
    "print(f\"Mean Absolute Error on Test Set: {mae:.2f}\")\n",
    "\n",
    "# Save the model\n",
    "model.save(\"age_detection_model.h5\")"
   ]
  },
  {
   "cell_type": "code",
   "execution_count": null,
   "id": "68e236f8",
   "metadata": {},
   "outputs": [],
   "source": []
  },
  {
   "cell_type": "code",
   "execution_count": null,
   "id": "ae9c2c23",
   "metadata": {},
   "outputs": [],
   "source": []
  },
  {
   "cell_type": "code",
   "execution_count": null,
   "id": "d8251e74",
   "metadata": {},
   "outputs": [],
   "source": []
  }
 ],
 "metadata": {
  "kernelspec": {
   "display_name": "Python 3 (ipykernel)",
   "language": "python",
   "name": "python3"
  },
  "language_info": {
   "codemirror_mode": {
    "name": "ipython",
    "version": 3
   },
   "file_extension": ".py",
   "mimetype": "text/x-python",
   "name": "python",
   "nbconvert_exporter": "python",
   "pygments_lexer": "ipython3",
   "version": "3.11.4"
  }
 },
 "nbformat": 4,
 "nbformat_minor": 5
}
